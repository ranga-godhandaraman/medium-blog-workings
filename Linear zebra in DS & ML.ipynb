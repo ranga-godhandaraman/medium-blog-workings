{
 "cells": [
  {
   "cell_type": "code",
   "execution_count": 1,
   "id": "66485a40",
   "metadata": {},
   "outputs": [
    {
     "name": "stdout",
     "output_type": "stream",
     "text": [
      "Vector addition: [5 7 9]\n",
      "Scalar multiplication: [2 4 6]\n"
     ]
    }
   ],
   "source": [
    "import numpy as np\n",
    "\n",
    "# Define vectors\n",
    "v1 = np.array([1, 2, 3])\n",
    "v2 = np.array([4, 5, 6])\n",
    "\n",
    "# Vector addition\n",
    "result_addition = v1 + v2\n",
    "print(\"Vector addition:\", result_addition)\n",
    "\n",
    "# Scalar multiplication\n",
    "scalar = 2\n",
    "result_scalar = scalar * v1\n",
    "print(\"Scalar multiplication:\", result_scalar)"
   ]
  },
  {
   "cell_type": "code",
   "execution_count": 2,
   "id": "4ddaeac6",
   "metadata": {},
   "outputs": [
    {
     "name": "stdout",
     "output_type": "stream",
     "text": [
      "Is A a subspace? False\n"
     ]
    }
   ],
   "source": [
    "# Define a matrix representing a subspace\n",
    "A = np.array([[1, 2], [3, 4]])\n",
    "\n",
    "# Check if it is a subspace\n",
    "def is_subspace(matrix):\n",
    "    # Verify closure under addition and scalar multiplication\n",
    "    return np.allclose(matrix + matrix, matrix) and np.allclose(2 * matrix, matrix)\n",
    "\n",
    "print(\"Is A a subspace?\", is_subspace(A))\n"
   ]
  },
  {
   "cell_type": "code",
   "execution_count": 5,
   "id": "719e5f5b",
   "metadata": {},
   "outputs": [
    {
     "name": "stderr",
     "output_type": "stream",
     "text": [
      "/usr/lib/python3/dist-packages/scipy/__init__.py:146: UserWarning: A NumPy version >=1.17.3 and <1.25.0 is required for this version of SciPy (detected version 1.26.4\n",
      "  warnings.warn(f\"A NumPy version >={np_minversion} and <{np_maxversion}\"\n"
     ]
    },
    {
     "name": "stdout",
     "output_type": "stream",
     "text": [
      "Original dimension: 3\n",
      "Reduced dimension after PCA: 2\n"
     ]
    }
   ],
   "source": [
    "from sklearn.decomposition import PCA\n",
    "\n",
    "# Generate random data\n",
    "X = np.random.rand(100, 3)\n",
    "\n",
    "# Add bias\n",
    "X[:, 0] += 2\n",
    "\n",
    "# Apply PCA\n",
    "pca = PCA(n_components=2)\n",
    "X_pca = pca.fit_transform(X)\n",
    "\n",
    "print(\"Original dimension:\", X.shape[1])\n",
    "print(\"Reduced dimension after PCA:\", X_pca.shape[1])\n"
   ]
  },
  {
   "cell_type": "code",
   "execution_count": 4,
   "id": "6a41d37c",
   "metadata": {},
   "outputs": [
    {
     "name": "stdout",
     "output_type": "stream",
     "text": [
      "Rank of B: 2\n",
      "Nullity of B: 1\n"
     ]
    }
   ],
   "source": [
    "# Define a matrix\n",
    "B = np.array([[1, 2, 3], [4, 5, 6]])\n",
    "\n",
    "# Calculate rank and nullity\n",
    "rank = np.linalg.matrix_rank(B)\n",
    "nullity = B.shape[1] - rank\n",
    "\n",
    "print(\"Rank of B:\", rank)\n",
    "print(\"Nullity of B:\", nullity)\n"
   ]
  },
  {
   "cell_type": "code",
   "execution_count": null,
   "id": "84264153",
   "metadata": {},
   "outputs": [],
   "source": []
  },
  {
   "cell_type": "code",
   "execution_count": null,
   "id": "8016a4e2",
   "metadata": {},
   "outputs": [],
   "source": []
  },
  {
   "cell_type": "code",
   "execution_count": null,
   "id": "df494ae4",
   "metadata": {},
   "outputs": [],
   "source": []
  },
  {
   "cell_type": "code",
   "execution_count": null,
   "id": "56d560a5",
   "metadata": {},
   "outputs": [],
   "source": []
  }
 ],
 "metadata": {
  "kernelspec": {
   "display_name": "Python 3 (ipykernel)",
   "language": "python",
   "name": "python3"
  },
  "language_info": {
   "codemirror_mode": {
    "name": "ipython",
    "version": 3
   },
   "file_extension": ".py",
   "mimetype": "text/x-python",
   "name": "python",
   "nbconvert_exporter": "python",
   "pygments_lexer": "ipython3",
   "version": "3.10.12"
  }
 },
 "nbformat": 4,
 "nbformat_minor": 5
}
